{
 "cells": [
  {
   "cell_type": "code",
   "execution_count": 1,
   "metadata": {
    "collapsed": false
   },
   "outputs": [
    {
     "name": "stdout",
     "output_type": "stream",
     "text": [
      "done\n"
     ]
    }
   ],
   "source": [
    "import psycopg2\n",
    "import sys\n",
    "\n",
    "\n",
    "con = psycopg2.connect(\"dbname=testdb user=tim\")  \n",
    "  \n",
    "cur = con.cursor()  \n",
    "    \n",
    "cur.execute(\"DROP TABLE IF EXISTS chiisat\")\n",
    "cur.execute(\"CREATE TABLE chiisat(School_Name TEXT NOT NULL, School_ID TEXT NOT NULL, Unit TEXT NOT NULL, Network TEXT NOT NULL, Grade TEXT NOT NULL, Year TEXT NOT NULL, ReadME NUMERIC(4,1), MathME NUMERIC(4,1), CompME NUMERIC(4,1), ReadEXC NUMERIC(4,1), MathEXC NUMERIC(4,1), CompEXC NUMERIC(4,1), ReadMEET NUMERIC(4,1), MathMEET NUMERIC(4,1), CompMEET NUMERIC(4,1), ReadBLW NUMERIC(4,1), MathBLW NUMERIC(4,1), CompBLW NUMERIC(4,1), ReadWRN NUMERIC(4,1), MathWRN NUMERIC(4,1), CompWRN NUMERIC(4,1), ReadTST NUMERIC(4,1), MathTST NUMERIC(4,1))\")\n",
    "        \n",
    "con.commit()\n",
    "    \n",
    "    \n",
    "if con:\n",
    "    con.close()\n",
    "\n",
    "print(\"done\")"
   ]
  },
  {
   "cell_type": "code",
   "execution_count": null,
   "metadata": {
    "collapsed": true
   },
   "outputs": [],
   "source": []
  }
 ],
 "metadata": {
  "kernelspec": {
   "display_name": "Python 3",
   "language": "python",
   "name": "python3"
  },
  "language_info": {
   "codemirror_mode": {
    "name": "ipython",
    "version": 3
   },
   "file_extension": ".py",
   "mimetype": "text/x-python",
   "name": "python",
   "nbconvert_exporter": "python",
   "pygments_lexer": "ipython3",
   "version": "3.4.3"
  }
 },
 "nbformat": 4,
 "nbformat_minor": 0
}
